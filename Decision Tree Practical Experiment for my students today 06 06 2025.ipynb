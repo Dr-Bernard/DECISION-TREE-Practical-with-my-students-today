{
 "cells": [
  {
   "cell_type": "markdown",
   "id": "282c7e25",
   "metadata": {},
   "source": [
    "DECISION TREE Experiment\n",
    "\n",
    "This experiment uses the tennis.txt dataset, which contains 14 samples. Each sample contains weather-related features and whether it is suitable for tennis.\n",
    "\n",
    "Step 1 Import dependencies\n",
    "\n",
    "Input:"
   ]
  },
  {
   "cell_type": "code",
   "execution_count": 4,
   "id": "44bcf856",
   "metadata": {},
   "outputs": [],
   "source": [
    "import pandas as pd\n",
    "import numpy as np\n",
    "from sklearn import tree\n",
    "import pydotplus"
   ]
  },
  {
   "cell_type": "markdown",
   "id": "3a94d632",
   "metadata": {},
   "source": [
    "Step 2: Define the function for generating a decision tree\n",
    "\n",
    "Input:"
   ]
  },
  {
   "cell_type": "code",
   "execution_count": 5,
   "id": "bd2ee319",
   "metadata": {},
   "outputs": [],
   "source": [
    "# Generate a decision tree\n",
    "def createTree(trainingData):\n",
    "    data = trainingData.iloc[:, :-1]      # Feature matrix\n",
    "    labels = trainingData.iloc[:, -1]     # Labels\n",
    "    trainedTree = tree.DecisionTreeClassifier(criterion=\"entropy\")      # Decision tree classifier\n",
    "    trainedTree.fit(data, labels)      # Train the model\n",
    "    return trainedTree"
   ]
  },
  {
   "cell_type": "markdown",
   "id": "30593a70",
   "metadata": {},
   "source": [
    "Step 3: Define the function for saving the generated tree diagram\n",
    "\n",
    "Input:"
   ]
  },
  {
   "cell_type": "code",
   "execution_count": 6,
   "id": "48f67787",
   "metadata": {},
   "outputs": [],
   "source": [
    "def showtree2pdf(trainedTree,finename):\n",
    "    dot_data = tree.export_graphviz(trainedTree, out_file=None)    # Export the tree in Graphviz format.\n",
    "    graph = pydotplus.graph_from_dot_data(dot_data)\n",
    "    graph.write_pdf(finename)     # Save the tree diagram to the local machine in PDF format."
   ]
  },
  {
   "cell_type": "markdown",
   "id": "a5ae5c2b",
   "metadata": {},
   "source": [
    "Step 4: Define the function for generating vectorized data\n",
    "\n",
    "In the function, pd.Categorical(list).codes obtains the sequence number list corresponding to the original data, so as to convert the categorical information into numeric information.\n",
    "\n",
    "Input:"
   ]
  },
  {
   "cell_type": "code",
   "execution_count": 7,
   "id": "a0c8799b",
   "metadata": {},
   "outputs": [],
   "source": [
    "def data2vectoc(data):\n",
    "    names = data.columns[:-1]\n",
    "    for i in names:\n",
    "        col = pd.Categorical(data[i])\n",
    "        data[i] = col.codes\n",
    "    return data"
   ]
  },
  {
   "cell_type": "markdown",
   "id": "4fe01751",
   "metadata": {},
   "source": [
    "Step 5 Invoke the function for prediction\n",
    "\n",
    "Input:"
   ]
  },
  {
   "cell_type": "code",
   "execution_count": 8,
   "id": "8559b3d5",
   "metadata": {},
   "outputs": [],
   "source": [
    "data = pd.read_table(\"tennis.txt\",header=None,sep='\\t')   # Read training data\n",
    "trainingvec=data2vectoc(data)     # Vectorize data\n",
    "decisionTree=createTree(trainingvec)   # Create a decision tree.\n",
    "showtree2pdf(decisionTree,\"tennis.pdf\")  # Plot the decision tree"
   ]
  },
  {
   "cell_type": "markdown",
   "id": "9359af29",
   "metadata": {},
   "source": [
    "The file content is a visualized display of the decision tree. In the diagram, X[2] is the third feature variable (humidity); X[0] is the first feature variable (weather); X[3] is the fourth feature variable (wind); entropy is the entropy value of the node; and samples is the number of samples in the node, for example, 14 in the first node (root node) indicates the number of samples in the training set; and value indicates the number of samples of different types, for example, in the root node, 5 indicates the number of \"no\" samples, and 9 indicates the number of \"yes\" samples.\n",
    "\n",
    "Predict a new sample. Input:"
   ]
  },
  {
   "cell_type": "code",
   "execution_count": 9,
   "id": "669feea0",
   "metadata": {},
   "outputs": [
    {
     "name": "stdout",
     "output_type": "stream",
     "text": [
      "['Y']\n"
     ]
    }
   ],
   "source": [
    "testVec = [0,0,1,1]  # Weather is sunny, temperature is low, humidity is high, and wind is strong.\n",
    "print(decisionTree.predict(np.array(testVec).reshape(1,-1)))   # Predict"
   ]
  },
  {
   "cell_type": "code",
   "execution_count": null,
   "id": "77e7455a",
   "metadata": {},
   "outputs": [],
   "source": []
  }
 ],
 "metadata": {
  "kernelspec": {
   "display_name": "Python 3 (ipykernel)",
   "language": "python",
   "name": "python3"
  },
  "language_info": {
   "codemirror_mode": {
    "name": "ipython",
    "version": 3
   },
   "file_extension": ".py",
   "mimetype": "text/x-python",
   "name": "python",
   "nbconvert_exporter": "python",
   "pygments_lexer": "ipython3",
   "version": "3.9.12"
  }
 },
 "nbformat": 4,
 "nbformat_minor": 5
}
